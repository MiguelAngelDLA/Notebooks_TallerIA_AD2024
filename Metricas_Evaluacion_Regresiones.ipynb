{
  "cells": [
    {
      "cell_type": "markdown",
      "metadata": {
        "id": "view-in-github",
        "colab_type": "text"
      },
      "source": [
        "<a href=\"https://colab.research.google.com/github/MiguelAngelDLA/Notebooks_TallerIA_AD2024/blob/main/Metricas_Evaluacion_Regresiones.ipynb\" target=\"_parent\"><img src=\"https://colab.research.google.com/assets/colab-badge.svg\" alt=\"Open In Colab\"/></a>"
      ]
    },
    {
      "cell_type": "markdown",
      "id": "55df930d",
      "metadata": {
        "id": "55df930d"
      },
      "source": [
        "\n",
        "# Métricas de Evaluación para Análisis de Regresión\n",
        "\n",
        "En este cuaderno, exploraremos algunas de las métricas de evaluación más comunes para modelos de regresión. Las métricas que cubriremos incluyen:\n",
        "\n",
        "- **MAE (Error Absoluto Medio)**\n",
        "- **MSE (Error Cuadrático Medio)**\n",
        "- **RMSE (Raíz del Error Cuadrático Medio)**\n",
        "- **R² (Coeficiente de Determinación)**\n",
        "\n",
        "Estas métricas nos ayudarán a entender la precisión y calidad de los modelos de regresión.\n",
        "    "
      ]
    },
    {
      "cell_type": "markdown",
      "id": "033f88e3",
      "metadata": {
        "id": "033f88e3"
      },
      "source": [
        "\n",
        "## 1. MAE (Error Absoluto Medio)\n",
        "\n",
        "El **Error Absoluto Medio (MAE)** mide el promedio de los errores absolutos entre las predicciones y los valores reales. Es una métrica simple que indica, en promedio, cuánto difiere cada predicción de su valor real.\n",
        "\n",
        "La fórmula para calcular el MAE es:\n",
        "\n",
        "# $ MAE = \\frac{1}{n} \\sum_{i=1}^{n} |y_i - \\hat{y}_i| $\n",
        "\n",
        "donde:\n",
        "- $ y_i $ son los valores reales\n",
        "- $ \\hat{y}_i $ son las predicciones\n",
        "- $ n $ es el número total de observaciones.\n",
        "    "
      ]
    },
    {
      "cell_type": "code",
      "execution_count": null,
      "id": "a874cd1f",
      "metadata": {
        "colab": {
          "base_uri": "https://localhost:8080/"
        },
        "id": "a874cd1f",
        "outputId": "359d055a-b349-437d-900c-e35a6a7c1c56"
      },
      "outputs": [
        {
          "output_type": "stream",
          "name": "stdout",
          "text": [
            "MAE: 0.5\n"
          ]
        }
      ],
      "source": [
        "#Aquí, y_true es una lista que contiene los valores reales, y y_pred es una lista que contiene los valores predichos por el modelo.\n",
        "y_true = [3, -0.5, 2, 7]\n",
        "y_pred = [2.5, 0.0, 2, 8]\n",
        "\n",
        "#Se inicializa la variable total_error en 0. Esta variable se usará para acumular los errores absolutos entre los valores reales y predichos.\n",
        "total_error = 0\n",
        "\n",
        "for actual, predicted in zip(y_true, y_pred):\n",
        "    error = abs(actual - predicted)\n",
        "    total_error += error\n",
        "\n",
        "mae = total_error / len(y_true)\n",
        "\n",
        "print(f\"MAE: {mae}\")\n"
      ]
    },
    {
      "cell_type": "markdown",
      "source": [
        "- El bucle for utiliza `zip(y_true, y_pred)` para iterar sobre ambos conjuntos de datos `(y_true y y_pred)` simultáneamente.\n",
        "- En cada iteración, actual toma un valor de `y_true`, y predicted toma el valor correspondiente de `y_pred`.\n",
        "- `error = abs(actual - predicted)` calcula la diferencia absoluta entre el valor real `actual` y el valor predicho `predicted`.\n",
        "`total_error += error` suma este error absoluto al `total_error`, acumulando los errores en cada iteración.\n",
        "\n",
        "- Se calcula el MAE dividiendo el total_error entre el número total de observaciones `len(y_true)`. Esto da el promedio de los errores absolutos.\n",
        "\n",
        "\n"
      ],
      "metadata": {
        "id": "PouP1mdoSZI7"
      },
      "id": "PouP1mdoSZI7"
    },
    {
      "cell_type": "markdown",
      "id": "3212d3b0",
      "metadata": {
        "id": "3212d3b0"
      },
      "source": [
        "\n",
        "## 2. MSE (Error Cuadrático Medio)\n",
        "\n",
        "El **Error Cuadrático Medio (MSE)** calcula el promedio de los errores al cuadrado. A diferencia del MAE, penaliza más los errores grandes debido a la elevación al cuadrado.\n",
        "\n",
        "La fórmula para calcular el MSE es:\n",
        "\n",
        "# $ MSE = \\frac{1}{n} \\sum_{i=1}^{n} (y_i - \\hat{y}_i)^2 $\n",
        "    "
      ]
    },
    {
      "cell_type": "code",
      "execution_count": null,
      "id": "bfc92660",
      "metadata": {
        "colab": {
          "base_uri": "https://localhost:8080/"
        },
        "id": "bfc92660",
        "outputId": "5c44ae5c-14af-4e61-be8a-8332a5bebb4f"
      },
      "outputs": [
        {
          "output_type": "stream",
          "name": "stdout",
          "text": [
            "MSE: 0.375\n"
          ]
        }
      ],
      "source": [
        "total_error = 0\n",
        "\n",
        "# Bucle para calcular el error cuadrático\n",
        "for actual, predicted in zip(y_true, y_pred):\n",
        "\n",
        "    error = (actual - predicted) ** 2\n",
        "    total_error += error\n",
        "\n",
        "mse = total_error / len(y_true)\n",
        "\n",
        "print(f\"MSE: {mse}\")\n"
      ]
    },
    {
      "cell_type": "markdown",
      "id": "5998ac9e",
      "metadata": {
        "id": "5998ac9e"
      },
      "source": [
        "\n",
        "## 3. RMSE (Raíz del Error Cuadrático Medio)\n",
        "\n",
        "El **RMSE (Raíz del Error Cuadrático Medio)** es simplemente la raíz cuadrada del MSE. Es útil porque devuelve la métrica a las mismas unidades que las del valor objetivo, facilitando la interpretación.\n",
        "\n",
        "La fórmula para calcular el RMSE es:\n",
        "\n",
        "# $ RMSE = \\sqrt{MSE} $\n",
        "    "
      ]
    },
    {
      "cell_type": "code",
      "execution_count": null,
      "id": "0acffcf9",
      "metadata": {
        "colab": {
          "base_uri": "https://localhost:8080/"
        },
        "id": "0acffcf9",
        "outputId": "c1de8be7-4e5a-4dfd-8bd1-5a248668041b"
      },
      "outputs": [
        {
          "output_type": "stream",
          "name": "stdout",
          "text": [
            "RMSE: 0.6123724356957945\n"
          ]
        }
      ],
      "source": [
        "total_error = 0\n",
        "\n",
        "for actual, predicted in zip(y_true, y_pred):\n",
        "\n",
        "    error = (actual - predicted) ** 2\n",
        "    total_error += error\n",
        "\n",
        "mse = total_error / len(y_true)\n",
        "\n",
        "# Calcular el RMSE como la raíz cuadrada del MSE\n",
        "rmse = mse ** 0.5\n",
        "\n",
        "print(f\"RMSE: {rmse}\")\n"
      ]
    },
    {
      "cell_type": "markdown",
      "id": "65382cbd",
      "metadata": {
        "id": "65382cbd"
      },
      "source": [
        "\n",
        "## 4. R² (Coeficiente de Determinación)\n",
        "\n",
        "El **Coeficiente de Determinación (R²)** mide qué tan bien las predicciones se ajustan a los datos reales. Un valor de R² cercano a 1 indica un buen ajuste del modelo, mientras que un valor cercano a 0 indica un mal ajuste.\n",
        "\n",
        "La fórmula para calcular el R² es:\n",
        "\n",
        "# $ R^2 = 1 - \\frac{\\sum_{i=1}^{n} (y_i - \\hat{y}_i)^2}{\\sum_{i=1}^{n} (y_i - \\bar{y})^2} $\n",
        "\n",
        "donde:\n",
        "- $ \\bar{y} $\n",
        "\n",
        " es el valor medio de los valores reales.\n",
        "    "
      ]
    },
    {
      "cell_type": "code",
      "execution_count": null,
      "id": "abb7f151",
      "metadata": {
        "colab": {
          "base_uri": "https://localhost:8080/"
        },
        "id": "abb7f151",
        "outputId": "426ec46d-2ee4-4645-8784-c38f2aa18606"
      },
      "outputs": [
        {
          "output_type": "stream",
          "name": "stdout",
          "text": [
            "R²: 0.9486081370449679\n"
          ]
        }
      ],
      "source": [
        "#Se calcula la media de los valores reales (y_true). Esta media se utiliza para comparar cuánto se desvían los valores reales de sus predicciones y de su propia media.\n",
        "mean_y_true = sum(y_true) / len(y_true)\n",
        "\n",
        "\n",
        "'''\n",
        "ss_total es la suma de los cuadrados totales, que mide la variabilidad total de los datos reales con respecto a su media.\n",
        "ss_res es la suma de los cuadrados residuales, que mide la variabilidad de los datos reales con respecto a las predicciones.\n",
        "'''\n",
        "ss_total = 0\n",
        "ss_res = 0\n",
        "\n",
        "'''\n",
        "Se usa zip(y_true, y_pred) para iterar sobre los pares de valores reales y predichos.\n",
        "ss_total += (actual - mean_y_true) ** 2 acumula los cuadrados de las diferencias entre los valores reales y la media.\n",
        "ss_res += (actual - predicted) ** 2 acumula los cuadrados de las diferencias entre los valores reales y los predichos.\n",
        "'''\n",
        "for actual, predicted in zip(y_true, y_pred):\n",
        "\n",
        "    ss_total += (actual - mean_y_true) ** 2\n",
        "    ss_res += (actual - predicted) ** 2\n",
        "\n",
        "r2 = 1 - (ss_res / ss_total)\n",
        "\n",
        "print(f\"R²: {r2}\")"
      ]
    },
    {
      "cell_type": "markdown",
      "source": [
        "#Tabla de comparación\n",
        "\n",
        "Para finalizar, tenemos una tabla de comparación entre las 4 metricas para regresiones, elijan las que se ajuste mejor al objetivo de su modelo:\n",
        "\n",
        "| Métrica | Definición | Ventajas | Desventajas | Rango de Valores |\n",
        "|---------|------------|----------|-------------|------------------|\n",
        "| **MAE** | Error Absoluto Medio: mide el promedio de los errores absolutos entre las predicciones y los valores reales. | Fácil de interpretar y no penaliza tanto los errores grandes. | No considera la magnitud de los errores grandes, lo que puede ser problemático en algunos contextos. | 0 a ∞, donde valores más bajos indican un mejor ajuste. |\n",
        "| **MSE** | Error Cuadrático Medio: calcula el promedio de los errores al cuadrado, penalizando más los errores grandes. | Penaliza más los errores grandes, lo que es útil para identificar grandes desviaciones. | Dificulta la interpretación debido a que está en unidades al cuadrado de la variable objetivo. | 0 a ∞, con valores más bajos indicando un mejor ajuste. |\n",
        "| **RMSE** | Raíz del Error Cuadrático Medio: es la raíz cuadrada del MSE, devolviendo la métrica a las unidades originales. | Devuelve la métrica a las mismas unidades de la variable objetivo, facilitando la interpretación. | Similar al MSE pero con mejor interpretación, aunque sigue penalizando errores grandes. | 0 a ∞, valores más bajos indican un mejor ajuste, pero interpretado en las mismas unidades de los datos. |\n",
        "| **R²** | Coeficiente de Determinación: mide qué tan bien las predicciones se ajustan a los valores reales, indicando el porcentaje de variabilidad explicada. | Proporciona una medida del ajuste general del modelo, útil para evaluar su efectividad. | No muestra el tamaño real de los errores y puede ser engañoso si se usa solo sin otros indicadores. | 0 a 1, donde 1 indica un ajuste perfecto y 0 indica que el modelo no explica la variabilidad de los datos. |\n"
      ],
      "metadata": {
        "id": "n3ykXf9EX5RY"
      },
      "id": "n3ykXf9EX5RY"
    }
  ],
  "metadata": {
    "colab": {
      "provenance": [],
      "include_colab_link": true
    },
    "language_info": {
      "name": "python"
    },
    "kernelspec": {
      "name": "python3",
      "display_name": "Python 3"
    }
  },
  "nbformat": 4,
  "nbformat_minor": 5
}