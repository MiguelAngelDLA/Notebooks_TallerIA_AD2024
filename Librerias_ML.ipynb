{
  "cells": [
    {
      "cell_type": "markdown",
      "metadata": {
        "id": "view-in-github",
        "colab_type": "text"
      },
      "source": [
        "<a href=\"https://colab.research.google.com/github/MiguelAngelDLA/Notebooks_TallerIA_AD2024/blob/main/Librerias_ML.ipynb\" target=\"_parent\"><img src=\"https://colab.research.google.com/assets/colab-badge.svg\" alt=\"Open In Colab\"/></a>"
      ]
    },
    {
      "cell_type": "markdown",
      "id": "e9946c7d",
      "metadata": {
        "id": "e9946c7d"
      },
      "source": [
        "# Librerías más Utilizadas en Machine Learning y Análisis de Datos"
      ]
    },
    {
      "cell_type": "markdown",
      "id": "35305af8",
      "metadata": {
        "id": "35305af8"
      },
      "source": [
        "\n",
        "En el campo del Machine Learning y el análisis de datos, existen varias librerías que son fundamentales para el desarrollo y la implementación de modelos. A continuación, se describen algunas de las librerías más utilizadas, su propósito fundamental y una lista de sus funciones más comunes.\n"
      ]
    },
    {
      "cell_type": "markdown",
      "id": "34257e3c",
      "metadata": {
        "id": "34257e3c"
      },
      "source": [
        "## 1. NumPy"
      ]
    },
    {
      "cell_type": "markdown",
      "id": "5c78b59e",
      "metadata": {
        "id": "5c78b59e"
      },
      "source": [
        "\n",
        "**Propósito Fundamental**: NumPy es una librería para el cálculo numérico en Python que proporciona soporte para arreglos y matrices de grandes dimensiones, junto con una colección de funciones matemáticas para operar con ellas.\n",
        "\n",
        "**Funciones Más Utilizadas**:\n",
        "- `np.array()`: Crea un arreglo N-dimensional.\n",
        "- `np.linspace()`: Crea un arreglo de números equidistantes.\n",
        "- `np.mean()`: Calcula la media de un arreglo.\n",
        "- `np.std()`: Calcula la desviación estándar.\n",
        "- `np.dot()`: Realiza el producto punto entre dos arreglos.\n"
      ]
    },
    {
      "cell_type": "code",
      "execution_count": null,
      "id": "e470556a",
      "metadata": {
        "id": "e470556a"
      },
      "outputs": [],
      "source": [
        "# Ejemplo de uso de NumPy\n",
        "import numpy as np\n",
        "\n",
        "# Crear un arreglo de 10 números equidistantes entre 0 y 1\n",
        "arreglo = np.linspace(0, 1, 10)\n",
        "print(arreglo)\n"
      ]
    },
    {
      "cell_type": "markdown",
      "id": "7b00384b",
      "metadata": {
        "id": "7b00384b"
      },
      "source": [
        "## 2. Pandas"
      ]
    },
    {
      "cell_type": "markdown",
      "id": "bdb550ab",
      "metadata": {
        "id": "bdb550ab"
      },
      "source": [
        "\n",
        "**Propósito Fundamental**: Pandas es una librería utilizada para la manipulación y análisis de datos. Ofrece estructuras de datos como Series y DataFrames para trabajar de manera eficiente con datos etiquetados y estructurados.\n",
        "\n",
        "**Funciones Más Utilizadas**:\n",
        "- `pd.read_csv()`: Lee archivos CSV y los convierte en un DataFrame.\n",
        "- `df.head()`: Muestra las primeras filas de un DataFrame.\n",
        "- `df.describe()`: Genera estadísticas descriptivas de un DataFrame.\n",
        "- `df.groupby()`: Agrupa datos según uno o más criterios.\n",
        "- `df.merge()`: Une dos DataFrames basándose en una clave común.\n"
      ]
    },
    {
      "cell_type": "code",
      "execution_count": null,
      "id": "06f96405",
      "metadata": {
        "id": "06f96405"
      },
      "outputs": [],
      "source": [
        "# Ejemplo de uso de Pandas\n",
        "import pandas as pd\n",
        "\n",
        "# Crear un DataFrame simple\n",
        "data = {'Nombre': ['Ana', 'Luis', 'Pedro'], 'Edad': [23, 35, 29]}\n",
        "df = pd.DataFrame(data)\n",
        "print(df.head())\n"
      ]
    },
    {
      "cell_type": "markdown",
      "id": "07f77ed0",
      "metadata": {
        "id": "07f77ed0"
      },
      "source": [
        "## 3. Matplotlib"
      ]
    },
    {
      "cell_type": "markdown",
      "id": "67b21726",
      "metadata": {
        "id": "67b21726"
      },
      "source": [
        "\n",
        "**Propósito Fundamental**: Matplotlib es una librería de visualización de datos que permite crear gráficos estáticos, animados e interactivos en Python.\n",
        "\n",
        "**Funciones Más Utilizadas**:\n",
        "- `plt.plot()`: Crea gráficos de líneas.\n",
        "- `plt.bar()`: Crea gráficos de barras.\n",
        "- `plt.hist()`: Genera histogramas.\n",
        "- `plt.scatter()`: Crea gráficos de dispersión.\n",
        "- `plt.show()`: Muestra el gráfico creado.\n"
      ]
    },
    {
      "cell_type": "code",
      "execution_count": null,
      "id": "5ab92600",
      "metadata": {
        "id": "5ab92600"
      },
      "outputs": [],
      "source": [
        "# Ejemplo de uso de Matplotlib\n",
        "import matplotlib.pyplot as plt\n",
        "\n",
        "# Crear un gráfico de barras simple\n",
        "x = ['A', 'B', 'C']\n",
        "y = [10, 20, 15]\n",
        "\n",
        "plt.bar(x, y)\n",
        "plt.title('Gráfico de Barras')\n",
        "plt.show()\n"
      ]
    },
    {
      "cell_type": "markdown",
      "id": "b9095666",
      "metadata": {
        "id": "b9095666"
      },
      "source": [
        "## 4. Scikit-learn"
      ]
    },
    {
      "cell_type": "markdown",
      "id": "70795da1",
      "metadata": {
        "id": "70795da1"
      },
      "source": [
        "\n",
        "**Propósito Fundamental**: Scikit-learn es una de las librerías más populares para la construcción de modelos de Machine Learning. Proporciona herramientas simples y eficientes para minería de datos y análisis predictivo.\n",
        "\n",
        "**Funciones Más Utilizadas**:\n",
        "- `train_test_split()`: Divide los datos en conjuntos de entrenamiento y prueba.\n",
        "- `fit()`: Ajusta un modelo a los datos de entrenamiento.\n",
        "- `predict()`: Realiza predicciones basadas en el modelo ajustado.\n",
        "- `accuracy_score()`: Calcula la precisión del modelo.\n",
        "- `cross_val_score()`: Realiza validación cruzada para evaluar el modelo.\n"
      ]
    },
    {
      "cell_type": "code",
      "execution_count": null,
      "id": "d88354cc",
      "metadata": {
        "id": "d88354cc"
      },
      "outputs": [],
      "source": [
        "# Ejemplo de uso de Scikit-learn\n",
        "from sklearn.model_selection import train_test_split\n",
        "from sklearn.linear_model import LinearRegression\n",
        "from sklearn.metrics import mean_squared_error\n",
        "\n",
        "# Datos de ejemplo\n",
        "X = np.array([[1], [2], [3], [4]])\n",
        "y = np.array([3, 6, 9, 12])\n",
        "\n",
        "# Dividir los datos\n",
        "X_train, X_test, y_train, y_test = train_test_split(X, y, test_size=0.2, random_state=42)\n",
        "\n",
        "# Crear y ajustar el modelo\n",
        "model = LinearRegression()\n",
        "model.fit(X_train, y_train)\n",
        "\n",
        "# Realizar predicciones\n",
        "predictions = model.predict(X_test)\n",
        "print(\"Error cuadrático medio:\", mean_squared_error(y_test, predictions))\n"
      ]
    },
    {
      "cell_type": "markdown",
      "id": "f7b5ec78",
      "metadata": {
        "id": "f7b5ec78"
      },
      "source": [
        "## 5. TensorFlow"
      ]
    },
    {
      "cell_type": "markdown",
      "id": "1fac6e43",
      "metadata": {
        "id": "1fac6e43"
      },
      "source": [
        "\n",
        "**Propósito Fundamental**: TensorFlow es una plataforma de código abierto para el aprendizaje automático. Se utiliza principalmente para construir, entrenar y desplegar modelos de redes neuronales.\n",
        "\n",
        "**Funciones Más Utilizadas**:\n",
        "- `tf.constant()`: Crea tensores constantes.\n",
        "- `tf.Variable()`: Define variables para el modelo.\n",
        "- `tf.keras.layers()`: Añade capas a una red neuronal.\n",
        "- `model.compile()`: Compila el modelo con optimizadores y funciones de pérdida.\n",
        "- `model.fit()`: Ajusta el modelo a los datos de entrenamiento.\n"
      ]
    },
    {
      "cell_type": "code",
      "execution_count": null,
      "id": "40a860eb",
      "metadata": {
        "id": "40a860eb"
      },
      "outputs": [],
      "source": [
        "# Ejemplo de uso de TensorFlow\n",
        "import tensorflow as tf\n",
        "\n",
        "# Crear un tensor constante\n",
        "tensor = tf.constant([[1, 2], [3, 4]])\n",
        "print(tensor)\n"
      ]
    }
  ],
  "metadata": {
    "colab": {
      "provenance": [],
      "include_colab_link": true
    }
  },
  "nbformat": 4,
  "nbformat_minor": 5
}